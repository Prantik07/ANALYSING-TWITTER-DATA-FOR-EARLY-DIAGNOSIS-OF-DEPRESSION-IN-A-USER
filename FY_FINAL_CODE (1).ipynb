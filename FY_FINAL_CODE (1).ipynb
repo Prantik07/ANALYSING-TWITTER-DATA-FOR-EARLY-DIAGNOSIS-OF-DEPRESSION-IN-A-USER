{
  "cells": [
    {
      "cell_type": "code",
      "execution_count": null,
      "metadata": {
        "execution": {
          "iopub.execute_input": "2021-05-14T11:06:48.199324Z",
          "iopub.status.busy": "2021-05-14T11:06:48.198651Z",
          "iopub.status.idle": "2021-05-14T11:06:55.893381Z",
          "shell.execute_reply": "2021-05-14T11:06:55.893905Z"
        },
        "papermill": {
          "duration": 7.727429,
          "end_time": "2021-05-14T11:06:55.894272",
          "exception": false,
          "start_time": "2021-05-14T11:06:48.166843",
          "status": "completed"
        },
        "tags": [],
        "colab": {
          "base_uri": "https://localhost:8080/",
          "height": 206
        },
        "id": "exposed-ready",
        "outputId": "c074144a-8030-49d2-cfc1-1411c248a3bf"
      },
      "outputs": [
        {
          "output_type": "execute_result",
          "data": {
            "text/plain": [
              "   sentiment                                              tweet\n",
              "0          0  @Redjotter no, but I will. It just seems such ...\n",
              "1          0  MBP console's been showing disk io errors all ...\n",
              "2          2  @Lizloz I don't think you can tell in the Web ...\n",
              "3          2                                    watch the show \n",
              "4          2  @DrShagwell: lol.. well one time u were going ..."
            ],
            "text/html": [
              "\n",
              "  <div id=\"df-35eafd7b-978c-4598-9d9d-677df6a26cd7\">\n",
              "    <div class=\"colab-df-container\">\n",
              "      <div>\n",
              "<style scoped>\n",
              "    .dataframe tbody tr th:only-of-type {\n",
              "        vertical-align: middle;\n",
              "    }\n",
              "\n",
              "    .dataframe tbody tr th {\n",
              "        vertical-align: top;\n",
              "    }\n",
              "\n",
              "    .dataframe thead th {\n",
              "        text-align: right;\n",
              "    }\n",
              "</style>\n",
              "<table border=\"1\" class=\"dataframe\">\n",
              "  <thead>\n",
              "    <tr style=\"text-align: right;\">\n",
              "      <th></th>\n",
              "      <th>sentiment</th>\n",
              "      <th>tweet</th>\n",
              "    </tr>\n",
              "  </thead>\n",
              "  <tbody>\n",
              "    <tr>\n",
              "      <th>0</th>\n",
              "      <td>0</td>\n",
              "      <td>@Redjotter no, but I will. It just seems such ...</td>\n",
              "    </tr>\n",
              "    <tr>\n",
              "      <th>1</th>\n",
              "      <td>0</td>\n",
              "      <td>MBP console's been showing disk io errors all ...</td>\n",
              "    </tr>\n",
              "    <tr>\n",
              "      <th>2</th>\n",
              "      <td>2</td>\n",
              "      <td>@Lizloz I don't think you can tell in the Web ...</td>\n",
              "    </tr>\n",
              "    <tr>\n",
              "      <th>3</th>\n",
              "      <td>2</td>\n",
              "      <td>watch the show</td>\n",
              "    </tr>\n",
              "    <tr>\n",
              "      <th>4</th>\n",
              "      <td>2</td>\n",
              "      <td>@DrShagwell: lol.. well one time u were going ...</td>\n",
              "    </tr>\n",
              "  </tbody>\n",
              "</table>\n",
              "</div>\n",
              "      <button class=\"colab-df-convert\" onclick=\"convertToInteractive('df-35eafd7b-978c-4598-9d9d-677df6a26cd7')\"\n",
              "              title=\"Convert this dataframe to an interactive table.\"\n",
              "              style=\"display:none;\">\n",
              "        \n",
              "  <svg xmlns=\"http://www.w3.org/2000/svg\" height=\"24px\"viewBox=\"0 0 24 24\"\n",
              "       width=\"24px\">\n",
              "    <path d=\"M0 0h24v24H0V0z\" fill=\"none\"/>\n",
              "    <path d=\"M18.56 5.44l.94 2.06.94-2.06 2.06-.94-2.06-.94-.94-2.06-.94 2.06-2.06.94zm-11 1L8.5 8.5l.94-2.06 2.06-.94-2.06-.94L8.5 2.5l-.94 2.06-2.06.94zm10 10l.94 2.06.94-2.06 2.06-.94-2.06-.94-.94-2.06-.94 2.06-2.06.94z\"/><path d=\"M17.41 7.96l-1.37-1.37c-.4-.4-.92-.59-1.43-.59-.52 0-1.04.2-1.43.59L10.3 9.45l-7.72 7.72c-.78.78-.78 2.05 0 2.83L4 21.41c.39.39.9.59 1.41.59.51 0 1.02-.2 1.41-.59l7.78-7.78 2.81-2.81c.8-.78.8-2.07 0-2.86zM5.41 20L4 18.59l7.72-7.72 1.47 1.35L5.41 20z\"/>\n",
              "  </svg>\n",
              "      </button>\n",
              "      \n",
              "  <style>\n",
              "    .colab-df-container {\n",
              "      display:flex;\n",
              "      flex-wrap:wrap;\n",
              "      gap: 12px;\n",
              "    }\n",
              "\n",
              "    .colab-df-convert {\n",
              "      background-color: #E8F0FE;\n",
              "      border: none;\n",
              "      border-radius: 50%;\n",
              "      cursor: pointer;\n",
              "      display: none;\n",
              "      fill: #1967D2;\n",
              "      height: 32px;\n",
              "      padding: 0 0 0 0;\n",
              "      width: 32px;\n",
              "    }\n",
              "\n",
              "    .colab-df-convert:hover {\n",
              "      background-color: #E2EBFA;\n",
              "      box-shadow: 0px 1px 2px rgba(60, 64, 67, 0.3), 0px 1px 3px 1px rgba(60, 64, 67, 0.15);\n",
              "      fill: #174EA6;\n",
              "    }\n",
              "\n",
              "    [theme=dark] .colab-df-convert {\n",
              "      background-color: #3B4455;\n",
              "      fill: #D2E3FC;\n",
              "    }\n",
              "\n",
              "    [theme=dark] .colab-df-convert:hover {\n",
              "      background-color: #434B5C;\n",
              "      box-shadow: 0px 1px 3px 1px rgba(0, 0, 0, 0.15);\n",
              "      filter: drop-shadow(0px 1px 2px rgba(0, 0, 0, 0.3));\n",
              "      fill: #FFFFFF;\n",
              "    }\n",
              "  </style>\n",
              "\n",
              "      <script>\n",
              "        const buttonEl =\n",
              "          document.querySelector('#df-35eafd7b-978c-4598-9d9d-677df6a26cd7 button.colab-df-convert');\n",
              "        buttonEl.style.display =\n",
              "          google.colab.kernel.accessAllowed ? 'block' : 'none';\n",
              "\n",
              "        async function convertToInteractive(key) {\n",
              "          const element = document.querySelector('#df-35eafd7b-978c-4598-9d9d-677df6a26cd7');\n",
              "          const dataTable =\n",
              "            await google.colab.kernel.invokeFunction('convertToInteractive',\n",
              "                                                     [key], {});\n",
              "          if (!dataTable) return;\n",
              "\n",
              "          const docLinkHtml = 'Like what you see? Visit the ' +\n",
              "            '<a target=\"_blank\" href=https://colab.research.google.com/notebooks/data_table.ipynb>data table notebook</a>'\n",
              "            + ' to learn more about interactive tables.';\n",
              "          element.innerHTML = '';\n",
              "          dataTable['output_type'] = 'display_data';\n",
              "          await google.colab.output.renderOutput(dataTable, element);\n",
              "          const docLink = document.createElement('div');\n",
              "          docLink.innerHTML = docLinkHtml;\n",
              "          element.appendChild(docLink);\n",
              "        }\n",
              "      </script>\n",
              "    </div>\n",
              "  </div>\n",
              "  "
            ]
          },
          "metadata": {},
          "execution_count": 116
        }
      ],
      "source": [
        "\n",
        "#importing data \n",
        "import pandas as pd\n",
        "import numpy as np\n",
        "from matplotlib import pyplot as plt\n",
        "import seaborn as sns\n",
        "tweets=pd.read_csv('/content/drive/MyDrive/ML Projects/FY_Project/final_df.csv')\n",
        "tweets.rename(columns={'target':'sentiment', 'TweetText':'tweet'}, inplace=True)\n",
        "tweets['sentiment'].replace({2:1, 4:2}, inplace=True)\n",
        "tweets.head()"
      ],
      "id": "exposed-ready"
    },
    {
      "cell_type": "code",
      "execution_count": null,
      "metadata": {
        "execution": {
          "iopub.execute_input": "2021-05-14T11:06:57.531694Z",
          "iopub.status.busy": "2021-05-14T11:06:57.530845Z",
          "iopub.status.idle": "2021-05-14T11:06:57.537703Z",
          "shell.execute_reply": "2021-05-14T11:06:57.537001Z"
        },
        "papermill": {
          "duration": 0.035425,
          "end_time": "2021-05-14T11:06:57.537866",
          "exception": false,
          "start_time": "2021-05-14T11:06:57.502441",
          "status": "completed"
        },
        "tags": [],
        "colab": {
          "base_uri": "https://localhost:8080/"
        },
        "id": "increasing-nowhere",
        "outputId": "fd77de59-c549-43e6-bcf3-28123e60a9d9"
      },
      "outputs": [
        {
          "output_type": "execute_result",
          "data": {
            "text/plain": [
              "array([0, 2, 1])"
            ]
          },
          "metadata": {},
          "execution_count": 117
        }
      ],
      "source": [
        "tweets['sentiment'].unique()"
      ],
      "id": "increasing-nowhere"
    },
    {
      "cell_type": "code",
      "source": [
        "req = 55000\n",
        "\n",
        "drop4 = tweets[tweets['sentiment']==2].index\n",
        "drop4 = list(drop4)\n",
        "while(len(drop4)!=(800000-req)):\n",
        "  drop4.pop()\n",
        "\n",
        "drop0 = tweets[tweets['sentiment']==0].index\n",
        "drop0 = list(drop0)\n",
        "while(len(drop0)!=(799999-req)):\n",
        "  drop0.pop()\n",
        "\n",
        "drop = drop4 + drop0\n",
        "tweets.drop(index=drop, inplace=True)"
      ],
      "metadata": {
        "id": "jIqTGdZyg8Xn"
      },
      "execution_count": null,
      "outputs": [],
      "id": "jIqTGdZyg8Xn"
    },
    {
      "cell_type": "code",
      "execution_count": null,
      "metadata": {
        "execution": {
          "iopub.execute_input": "2021-05-14T11:06:55.944729Z",
          "iopub.status.busy": "2021-05-14T11:06:55.943927Z",
          "iopub.status.idle": "2021-05-14T11:06:57.481400Z",
          "shell.execute_reply": "2021-05-14T11:06:57.480607Z"
        },
        "papermill": {
          "duration": 1.567228,
          "end_time": "2021-05-14T11:06:57.481578",
          "exception": false,
          "start_time": "2021-05-14T11:06:55.914350",
          "status": "completed"
        },
        "tags": [],
        "colab": {
          "base_uri": "https://localhost:8080/"
        },
        "id": "generic-settlement",
        "outputId": "c940cbf2-acce-4cc8-e2bb-a0d2da0f6c96"
      },
      "outputs": [
        {
          "output_type": "stream",
          "name": "stdout",
          "text": [
            "Dataset shape: (165211, 2)\n"
          ]
        }
      ],
      "source": [
        "# tweets = tweets.sample(frac=1)\n",
        "print(\"Dataset shape:\", tweets.shape)"
      ],
      "id": "generic-settlement"
    },
    {
      "cell_type": "code",
      "source": [
        "tweets['sentiment'].value_counts()"
      ],
      "metadata": {
        "colab": {
          "base_uri": "https://localhost:8080/"
        },
        "id": "62WWBPzyglff",
        "outputId": "d6d418ed-8d64-46b1-f9e9-9afb9203a78b"
      },
      "execution_count": null,
      "outputs": [
        {
          "output_type": "execute_result",
          "data": {
            "text/plain": [
              "1    55211\n",
              "2    55000\n",
              "0    55000\n",
              "Name: sentiment, dtype: int64"
            ]
          },
          "metadata": {},
          "execution_count": 120
        }
      ],
      "id": "62WWBPzyglff"
    },
    {
      "cell_type": "code",
      "execution_count": null,
      "metadata": {
        "execution": {
          "iopub.execute_input": "2021-05-14T11:06:58.034349Z",
          "iopub.status.busy": "2021-05-14T11:06:58.033627Z",
          "iopub.status.idle": "2021-05-14T11:06:58.079414Z",
          "shell.execute_reply": "2021-05-14T11:06:58.078833Z"
        },
        "papermill": {
          "duration": 0.073399,
          "end_time": "2021-05-14T11:06:58.079591",
          "exception": false,
          "start_time": "2021-05-14T11:06:58.006192",
          "status": "completed"
        },
        "tags": [],
        "id": "understood-retention"
      },
      "outputs": [],
      "source": [
        "#converting pandas object to a string type\n",
        "tweets['tweet'] = tweets['tweet'].astype('str')"
      ],
      "id": "understood-retention"
    },
    {
      "cell_type": "code",
      "execution_count": null,
      "metadata": {
        "execution": {
          "iopub.execute_input": "2021-05-14T11:06:58.198680Z",
          "iopub.status.busy": "2021-05-14T11:06:58.197996Z",
          "iopub.status.idle": "2021-05-14T11:07:00.081480Z",
          "shell.execute_reply": "2021-05-14T11:07:00.082126Z"
        },
        "papermill": {
          "duration": 1.912292,
          "end_time": "2021-05-14T11:07:00.082371",
          "exception": false,
          "start_time": "2021-05-14T11:06:58.170079",
          "status": "completed"
        },
        "tags": [],
        "colab": {
          "base_uri": "https://localhost:8080/"
        },
        "id": "particular-offer",
        "outputId": "ba1bd75d-ed48-4f20-bccb-3868e30e8318"
      },
      "outputs": [
        {
          "output_type": "stream",
          "name": "stdout",
          "text": [
            "[nltk_data] Downloading package stopwords to /root/nltk_data...\n",
            "[nltk_data]   Package stopwords is already up-to-date!\n",
            "{'been', 'where', 'then', 'i', 'because', \"shan't\", 'each', 'my', 'yourself', 's', 'how', 'above', 'other', 'just', \"needn't\", 'ain', 'by', 'not', 'too', \"you've\", 'she', 'from', 'couldn', \"mightn't\", 'own', 'he', 'hers', 'hasn', 'on', \"hadn't\", 'up', 'with', 'his', 'have', 'into', 're', 'both', 'until', 'their', 'whom', 'should', \"weren't\", 'wouldn', 'if', 'such', 'has', \"should've\", 'needn', 'it', 'through', 'mustn', 'when', 'an', 'o', \"you'll\", 't', 'wasn', 'before', 'her', 'nor', \"wouldn't\", 'so', 'while', 'y', \"you'd\", 'very', \"mustn't\", \"you're\", 'shan', 'why', 'them', 'a', 'won', 'me', 'can', 'there', 'against', 'some', 'being', 'they', \"won't\", 'under', 'ours', \"she's\", 'few', 'but', 'to', 'weren', 'herself', 'about', 'of', 'who', 'those', 'below', 'during', 'than', \"doesn't\", 'here', 'ma', 'd', 'are', 'didn', 'him', \"hasn't\", \"shouldn't\", 'do', 'its', 'did', 'haven', 'down', \"didn't\", 'at', 'were', 'no', 'was', \"don't\", 'll', 'hadn', 'the', \"aren't\", 'isn', 'further', 'don', 'again', 'ourselves', 'having', 'doing', 'yours', 'what', 'this', 'most', 'theirs', 'you', 'after', 'out', \"couldn't\", 'once', 'had', 'that', 'be', \"isn't\", 'am', 'in', \"it's\", 'yourselves', 'themselves', 'm', 'itself', 'any', 've', 'shouldn', 'now', 'as', 'which', 'himself', 'same', 'is', 'these', 'between', 'more', 'does', 'only', 'doesn', \"that'll\", 'all', 'over', 'myself', 'and', 'mightn', 'we', \"haven't\", 'will', \"wasn't\", 'your', 'or', 'off', 'our', 'for', 'aren'}\n"
          ]
        }
      ],
      "source": [
        "# nltk\n",
        "import nltk\n",
        "from nltk.stem import WordNetLemmatizer\n",
        "from nltk.corpus import stopwords\n",
        "from nltk.tokenize import word_tokenize\n",
        "#Stop Words: A stop word is a commonly used word (such as “the”, “a”, “an”, “in”) \n",
        "#that a search engine has been programmed to ignore,\n",
        "#both when indexing entries for searching and when retrieving them as the result of a search query.\n",
        "nltk.download('stopwords')\n",
        "stopword = set(stopwords.words('english'))\n",
        "print(stopword)"
      ],
      "id": "particular-offer"
    },
    {
      "cell_type": "code",
      "execution_count": null,
      "metadata": {
        "execution": {
          "iopub.execute_input": "2021-05-14T11:07:00.283791Z",
          "iopub.status.busy": "2021-05-14T11:07:00.282757Z",
          "iopub.status.idle": "2021-05-14T11:07:00.286415Z",
          "shell.execute_reply": "2021-05-14T11:07:00.285816Z"
        },
        "papermill": {
          "duration": 0.180988,
          "end_time": "2021-05-14T11:07:00.286579",
          "exception": false,
          "start_time": "2021-05-14T11:07:00.105591",
          "status": "completed"
        },
        "tags": [],
        "id": "neither-signature"
      },
      "outputs": [],
      "source": [
        "import warnings\n",
        "warnings.filterwarnings('ignore')\n",
        "import re\n",
        "import string\n",
        "import pickle\n",
        "urlPattern = r\"((http://)[^ ]*|(https://)[^ ]*|( www\\.)[^ ]*)\"\n",
        "userPattern = '@[^\\s]+'\n",
        "some = 'amp,today,tomorrow,going,girl'\n",
        "def process_tweets(tweet):\n",
        "  # Lower Casing\n",
        "    tweet = re.sub(r\"he's\", \"he is\", tweet)\n",
        "    tweet = re.sub(r\"there's\", \"there is\", tweet)\n",
        "    tweet = re.sub(r\"We're\", \"We are\", tweet)\n",
        "    tweet = re.sub(r\"That's\", \"That is\", tweet)\n",
        "    tweet = re.sub(r\"won't\", \"will not\", tweet)\n",
        "    tweet = re.sub(r\"they're\", \"they are\", tweet)\n",
        "    tweet = re.sub(r\"Can't\", \"Cannot\", tweet)\n",
        "    tweet = re.sub(r\"wasn't\", \"was not\", tweet)\n",
        "    tweet = re.sub(r\"don\\x89Ûªt\", \"do not\", tweet)\n",
        "    tweet = re.sub(r\"aren't\", \"are not\", tweet)\n",
        "    tweet = re.sub(r\"isn't\", \"is not\", tweet)\n",
        "    tweet = re.sub(r\"What's\", \"What is\", tweet)\n",
        "    tweet = re.sub(r\"haven't\", \"have not\", tweet)\n",
        "    tweet = re.sub(r\"hasn't\", \"has not\", tweet)\n",
        "    tweet = re.sub(r\"There's\", \"There is\", tweet)\n",
        "    tweet = re.sub(r\"He's\", \"He is\", tweet)\n",
        "    tweet = re.sub(r\"It's\", \"It is\", tweet)\n",
        "    tweet = re.sub(r\"You're\", \"You are\", tweet)\n",
        "    tweet = re.sub(r\"I'M\", \"I am\", tweet)\n",
        "    tweet = re.sub(r\"shouldn't\", \"should not\", tweet)\n",
        "    tweet = re.sub(r\"wouldn't\", \"would not\", tweet)\n",
        "    tweet = re.sub(r\"i'm\", \"I am\", tweet)\n",
        "    tweet = re.sub(r\"I\\x89Ûªm\", \"I am\", tweet)\n",
        "    tweet = re.sub(r\"I'm\", \"I am\", tweet)\n",
        "    tweet = re.sub(r\"Isn't\", \"is not\", tweet)\n",
        "    tweet = re.sub(r\"Here's\", \"Here is\", tweet)\n",
        "    tweet = re.sub(r\"you've\", \"you have\", tweet)\n",
        "    tweet = re.sub(r\"you\\x89Ûªve\", \"you have\", tweet)\n",
        "    tweet = re.sub(r\"we're\", \"we are\", tweet)\n",
        "    tweet = re.sub(r\"what's\", \"what is\", tweet)\n",
        "    tweet = re.sub(r\"couldn't\", \"could not\", tweet)\n",
        "    tweet = re.sub(r\"we've\", \"we have\", tweet)\n",
        "    tweet = re.sub(r\"it\\x89Ûªs\", \"it is\", tweet)\n",
        "    tweet = re.sub(r\"doesn\\x89Ûªt\", \"does not\", tweet)\n",
        "    tweet = re.sub(r\"It\\x89Ûªs\", \"It is\", tweet)\n",
        "    tweet = re.sub(r\"Here\\x89Ûªs\", \"Here is\", tweet)\n",
        "    tweet = re.sub(r\"who's\", \"who is\", tweet)\n",
        "    tweet = re.sub(r\"hpy\", \"happy\", tweet)\n",
        "    tweet = re.sub(r\"I\\x89Ûªve\", \"I have\", tweet)\n",
        "    tweet = re.sub(r\"y'all\", \"you all\", tweet)\n",
        "    tweet = re.sub(r\"can\\x89Ûªt\", \"cannot\", tweet)\n",
        "    tweet = re.sub(r\"would've\", \"would have\", tweet)\n",
        "    tweet = re.sub(r\"it'll\", \"it will\", tweet)\n",
        "    tweet = re.sub(r\"we'll\", \"we will\", tweet)\n",
        "    tweet = re.sub(r\"wouldn\\x89Ûªt\", \"would not\", tweet)\n",
        "    tweet = re.sub(r\"We've\", \"We have\", tweet)\n",
        "    tweet = re.sub(r\"he'll\", \"he will\", tweet)\n",
        "    tweet = re.sub(r\"Y'all\", \"You all\", tweet)\n",
        "    tweet = re.sub(r\"Weren't\", \"Were not\", tweet)\n",
        "    tweet = re.sub(r\"Didn't\", \"Did not\", tweet)\n",
        "    tweet = re.sub(r\"they'll\", \"they will\", tweet)\n",
        "    tweet = re.sub(r\"they'd\", \"they would\", tweet)\n",
        "    tweet = re.sub(r\"DON'T\", \"DO NOT\", tweet)\n",
        "    tweet = re.sub(r\"That\\x89Ûªs\", \"That is\", tweet)\n",
        "    tweet = re.sub(r\"they've\", \"they have\", tweet)\n",
        "    tweet = re.sub(r\"i'd\", \"I would\", tweet)\n",
        "    tweet = re.sub(r\"should've\", \"should have\", tweet)\n",
        "    tweet = re.sub(r\"You\\x89Ûªre\", \"You are\", tweet)\n",
        "    tweet = re.sub(r\"where's\", \"where is\", tweet)\n",
        "    tweet = re.sub(r\"Don\\x89Ûªt\", \"Do not\", tweet)\n",
        "    tweet = re.sub(r\"we'd\", \"we would\", tweet)\n",
        "    tweet = re.sub(r\"i'll\", \"I will\", tweet)\n",
        "    tweet = re.sub(r\"weren't\", \"were not\", tweet)\n",
        "    tweet = re.sub(r\"They're\", \"They are\", tweet)\n",
        "    tweet = re.sub(r\"Can\\x89Ûªt\", \"Cannot\", tweet)\n",
        "    tweet = re.sub(r\"you\\x89Ûªll\", \"you will\", tweet)\n",
        "    tweet = re.sub(r\"I\\x89Ûªd\", \"I would\", tweet)\n",
        "    tweet = re.sub(r\"let's\", \"let us\", tweet)\n",
        "    tweet = re.sub(r\"it's\", \"it is\", tweet)\n",
        "    tweet = re.sub(r\"can't\", \"cannot\", tweet)\n",
        "    tweet = re.sub(r\"don't\", \"do not\", tweet)\n",
        "    tweet = re.sub(r\"you're\", \"you are\", tweet)\n",
        "    tweet = re.sub(r\"i've\", \"I have\", tweet)\n",
        "    tweet = re.sub(r\"that's\", \"that is\", tweet)\n",
        "    tweet = re.sub(r\"i'll\", \"I will\", tweet)\n",
        "    tweet = re.sub(r\"doesn't\", \"does not\", tweet)\n",
        "    tweet = re.sub(r\"i'd\", \"I would\", tweet)\n",
        "    tweet = re.sub(r\"didn't\", \"did not\", tweet)\n",
        "    tweet = re.sub(r\"ain't\", \"am not\", tweet)\n",
        "    tweet = re.sub(r\"you'll\", \"you will\", tweet)\n",
        "    tweet = re.sub(r\"I've\", \"I have\", tweet)\n",
        "    tweet = re.sub(r\"Don't\", \"do not\", tweet)\n",
        "    tweet = re.sub(r\"I'll\", \"I will\", tweet)\n",
        "    tweet = re.sub(r\"I'd\", \"I would\", tweet)\n",
        "    tweet = re.sub(r\"Let's\", \"Let us\", tweet)\n",
        "    tweet = re.sub(r\"you'd\", \"You would\", tweet)\n",
        "    tweet = re.sub(r\"It's\", \"It is\", tweet)\n",
        "    tweet = re.sub(r\"Ain't\", \"am not\", tweet)\n",
        "    tweet = re.sub(r\"Haven't\", \"Have not\", tweet)\n",
        "    tweet = re.sub(r\"Could've\", \"Could have\", tweet)\n",
        "    tweet = re.sub(r\"youve\", \"you have\", tweet)  \n",
        "    tweet = re.sub(r\"donå«t\", \"do not\", tweet)  \n",
        "    \n",
        "    tweet = re.sub(r\"some1\", \"someone\", tweet)\n",
        "    tweet = re.sub(r\"yrs\", \"years\", tweet)\n",
        "    tweet = re.sub(r\"hrs\", \"hours\", tweet)\n",
        "    tweet = re.sub(r\"2morow|2moro\", \"tomorrow\", tweet)\n",
        "    tweet = re.sub(r\"2day\", \"today\", tweet)\n",
        "    tweet = re.sub(r\"4got|4gotten\", \"forget\", tweet)\n",
        "    tweet = re.sub(r\"b-day|bday\", \"b-day\", tweet)\n",
        "    tweet = re.sub(r\"mother's\", \"mother\", tweet)\n",
        "    tweet = re.sub(r\"mom's\", \"mom\", tweet)\n",
        "    tweet = re.sub(r\"dad's\", \"dad\", tweet)\n",
        "    tweet = re.sub(r\"hahah|hahaha|hahahaha\", \"haha\", tweet)\n",
        "    tweet = re.sub(r\"lmao|lolz|rofl\", \"lol\", tweet)\n",
        "    tweet = re.sub(r\"thanx|thnx\", \"thanks\", tweet)\n",
        "    tweet = re.sub(r\"goood\", \"good\", tweet)\n",
        "    tweet = re.sub(r\"some1\", \"someone\", tweet)\n",
        "    tweet = re.sub(r\"some1\", \"someone\", tweet)\n",
        "    tweet = tweet.lower()\n",
        "    tweet=tweet[1:]\n",
        "    # Removing all URls \n",
        "    tweet = re.sub(urlPattern,'',tweet)\n",
        "    # Removing all @username.\n",
        "    tweet = re.sub(userPattern,'', tweet) \n",
        "    #remove some words\n",
        "    tweet= re.sub(some,'',tweet)\n",
        "    #Remove punctuations\n",
        "    tweet = tweet.translate(str.maketrans(\"\",\"\",string.punctuation))\n",
        "    #tokenizing words\n",
        "    tokens = word_tokenize(tweet)\n",
        "    #tokens = [w for w in tokens if len(w)>2]\n",
        "    #Removing Stop Words\n",
        "    final_tokens = [w for w in tokens if w not in stopword]\n",
        "    #reducing a word to its word stem \n",
        "    wordLemm = WordNetLemmatizer()\n",
        "    finalwords=[]\n",
        "    for w in final_tokens:\n",
        "      if len(w)>1:\n",
        "        word = wordLemm.lemmatize(w)\n",
        "        finalwords.append(word)\n",
        "    return ' '.join(finalwords)"
      ],
      "id": "neither-signature"
    },
    {
      "cell_type": "code",
      "execution_count": null,
      "metadata": {
        "execution": {
          "iopub.execute_input": "2021-05-14T11:07:00.350117Z",
          "iopub.status.busy": "2021-05-14T11:07:00.344272Z",
          "iopub.status.idle": "2021-05-14T11:07:00.366543Z",
          "shell.execute_reply": "2021-05-14T11:07:00.365759Z"
        },
        "papermill": {
          "duration": 0.056481,
          "end_time": "2021-05-14T11:07:00.366778",
          "exception": false,
          "start_time": "2021-05-14T11:07:00.310297",
          "status": "completed"
        },
        "tags": [],
        "id": "favorite-bumper"
      },
      "outputs": [],
      "source": [
        "abbreviations = {\n",
        "    \"$\" : \" dollar \",\n",
        "    \"€\" : \" euro \",\n",
        "    \"4ao\" : \"for adults only\",\n",
        "    \"a.m\" : \"before midday\",\n",
        "    \"a3\" : \"anytime anywhere anyplace\",\n",
        "    \"aamof\" : \"as a matter of fact\",\n",
        "    \"acct\" : \"account\",\n",
        "    \"adih\" : \"another day in hell\",\n",
        "    \"afaic\" : \"as far as i am concerned\",\n",
        "    \"afaict\" : \"as far as i can tell\",\n",
        "    \"afaik\" : \"as far as i know\",\n",
        "    \"afair\" : \"as far as i remember\",\n",
        "    \"afk\" : \"away from keyboard\",\n",
        "    \"app\" : \"application\",\n",
        "    \"approx\" : \"approximately\",\n",
        "    \"apps\" : \"applications\",\n",
        "    \"asap\" : \"as soon as possible\",\n",
        "    \"asl\" : \"age, sex, location\",\n",
        "    \"atk\" : \"at the keyboard\",\n",
        "    \"ave.\" : \"avenue\",\n",
        "    \"aymm\" : \"are you my mother\",\n",
        "    \"ayor\" : \"at your own risk\", \n",
        "    \"b&b\" : \"bed and breakfast\",\n",
        "    \"b+b\" : \"bed and breakfast\",\n",
        "    \"b.c\" : \"before christ\",\n",
        "    \"b2b\" : \"business to business\",\n",
        "    \"b2c\" : \"business to customer\",\n",
        "    \"b4\" : \"before\",\n",
        "    \"b4n\" : \"bye for now\",\n",
        "    \"b@u\" : \"back at you\",\n",
        "    \"bae\" : \"before anyone else\",\n",
        "    \"bak\" : \"back at keyboard\",\n",
        "    \"bbbg\" : \"bye bye be good\",\n",
        "    \"bbc\" : \"british broadcasting corporation\",\n",
        "    \"bbias\" : \"be back in a second\",\n",
        "    \"bbl\" : \"be back later\",\n",
        "    \"bbs\" : \"be back soon\",\n",
        "    \"be4\" : \"before\",\n",
        "    \"bfn\" : \"bye for now\",\n",
        "    \"blvd\" : \"boulevard\",\n",
        "    \"bout\" : \"about\",\n",
        "    \"brb\" : \"be right back\",\n",
        "    \"bros\" : \"brothers\",\n",
        "    \"brt\" : \"be right there\",\n",
        "    \"bsaaw\" : \"big smile and a wink\",\n",
        "    \"btw\" : \"by the way\",\n",
        "    \"bwl\" : \"bursting with laughter\",\n",
        "    \"c/o\" : \"care of\",\n",
        "    \"cet\" : \"central european time\",\n",
        "    \"cf\" : \"compare\",\n",
        "    \"cia\" : \"central intelligence agency\",\n",
        "    \"csl\" : \"can not stop laughing\",\n",
        "    \"cu\" : \"see you\",\n",
        "    \"cul8r\" : \"see you later\",\n",
        "    \"cv\" : \"curriculum vitae\",\n",
        "    \"cwot\" : \"complete waste of time\",\n",
        "    \"cya\" : \"see you\",\n",
        "    \"cyt\" : \"see you tomorrow\",\n",
        "    \"dae\" : \"does anyone else\",\n",
        "    \"dbmib\" : \"do not bother me i am busy\",\n",
        "    \"diy\" : \"do it yourself\",\n",
        "    \"dm\" : \"direct message\",\n",
        "    \"dwh\" : \"during work hours\",\n",
        "    \"e123\" : \"easy as one two three\",\n",
        "    \"eet\" : \"eastern european time\",\n",
        "    \"eg\" : \"example\",\n",
        "    \"embm\" : \"early morning business meeting\",\n",
        "    \"encl\" : \"enclosed\",\n",
        "    \"encl.\" : \"enclosed\",\n",
        "    \"etc\" : \"and so on\",\n",
        "    \"faq\" : \"frequently asked questions\",\n",
        "    \"fawc\" : \"for anyone who cares\",\n",
        "    \"fb\" : \"facebook\",\n",
        "    \"fc\" : \"fingers crossed\",\n",
        "    \"fig\" : \"figure\",\n",
        "    \"fimh\" : \"forever in my heart\", \n",
        "    \"ft.\" : \"feet\",\n",
        "    \"ft\" : \"featuring\",\n",
        "    \"ftl\" : \"for the loss\",\n",
        "    \"ftw\" : \"for the win\",\n",
        "    \"fwiw\" : \"for what it is worth\",\n",
        "    \"fyi\" : \"for your information\",\n",
        "    \"g9\" : \"genius\",\n",
        "    \"gahoy\" : \"get a hold of yourself\",\n",
        "    \"gal\" : \"get a life\",\n",
        "    \"gcse\" : \"general certificate of secondary education\",\n",
        "    \"gfn\" : \"gone for now\",\n",
        "    \"gg\" : \"good game\",\n",
        "    \"gl\" : \"good luck\",\n",
        "    \"glhf\" : \"good luck have fun\",\n",
        "    \"gmt\" : \"greenwich mean time\",\n",
        "    \"gmta\" : \"great minds think alike\",\n",
        "    \"gn\" : \"good night\",\n",
        "    \"g.o.a.t\" : \"greatest of all time\",\n",
        "    \"goat\" : \"greatest of all time\",\n",
        "    \"goi\" : \"get over it\",\n",
        "    \"gps\" : \"global positioning system\",\n",
        "    \"gr8\" : \"great\",\n",
        "    \"gratz\" : \"congratulations\",\n",
        "    \"gyal\" : \"girl\",\n",
        "    \"h&c\" : \"hot and cold\",\n",
        "    \"hp\" : \"horsepower\",\n",
        "    \"hr\" : \"hour\",\n",
        "    \"hrh\" : \"his royal highness\",\n",
        "    \"ht\" : \"height\",\n",
        "    \"ibrb\" : \"i will be right back\",\n",
        "    \"ic\" : \"i see\",\n",
        "    \"icq\" : \"i seek you\",\n",
        "    \"icymi\" : \"in case you missed it\",\n",
        "    \"idc\" : \"i do not care\",\n",
        "    \"idgadf\" : \"i do not give a damn fuck\",\n",
        "    \"idgaf\" : \"i do not give a fuck\",\n",
        "    \"idk\" : \"i do not know\",\n",
        "    \"ie\" : \"that is\",\n",
        "    \"i.e\" : \"that is\",\n",
        "    \"ifyp\" : \"i feel your pain\",\n",
        "    \"IG\" : \"instagram\",\n",
        "    \"iirc\" : \"if i remember correctly\",\n",
        "    \"ilu\" : \"i love you\",\n",
        "    \"ily\" : \"i love you\",\n",
        "    \"imho\" : \"in my humble opinion\",\n",
        "    \"imo\" : \"in my opinion\",\n",
        "    \"imu\" : \"i miss you\",\n",
        "    \"iow\" : \"in other words\",\n",
        "    \"irl\" : \"in real life\",\n",
        "    \"j4f\" : \"just for fun\",\n",
        "    \"jic\" : \"just in case\",\n",
        "    \"jk\" : \"just kidding\",\n",
        "    \"jsyk\" : \"just so you know\",\n",
        "    \"l8r\" : \"later\",\n",
        "    \"lb\" : \"pound\",\n",
        "    \"lbs\" : \"pounds\",\n",
        "    \"ldr\" : \"long distance relationship\",\n",
        "    \"lmao\" : \"laugh my ass off\",\n",
        "    \"lmfao\" : \"laugh my fucking ass off\",\n",
        "    \"lol\" : \"laughing out loud\",\n",
        "    \"ltd\" : \"limited\",\n",
        "    \"ltns\" : \"long time no see\",\n",
        "    \"m8\" : \"mate\",\n",
        "    \"mf\" : \"motherfucker\",\n",
        "    \"mfs\" : \"motherfuckers\",\n",
        "    \"mfw\" : \"my face when\",\n",
        "    \"mofo\" : \"motherfucker\",\n",
        "    \"mph\" : \"miles per hour\",\n",
        "    \"mr\" : \"mister\",\n",
        "    \"mrw\" : \"my reaction when\",\n",
        "    \"ms\" : \"miss\",\n",
        "    \"mte\" : \"my thoughts exactly\",\n",
        "    \"nagi\" : \"not a good idea\",\n",
        "    \"nbc\" : \"national broadcasting company\",\n",
        "    \"nbd\" : \"not big deal\",\n",
        "    \"nfs\" : \"not for sale\",\n",
        "    \"ngl\" : \"not going to lie\",\n",
        "    \"nhs\" : \"national health service\",\n",
        "    \"nrn\" : \"no reply necessary\",\n",
        "    \"nsfl\" : \"not safe for life\",\n",
        "    \"nsfw\" : \"not safe for work\",\n",
        "    \"nth\" : \"nice to have\",\n",
        "    \"nvr\" : \"never\",\n",
        "    \"nyc\" : \"new york city\",\n",
        "    \"oc\" : \"original content\",\n",
        "    \"og\" : \"original\",\n",
        "    \"ohp\" : \"overhead projector\",\n",
        "    \"oic\" : \"oh i see\",\n",
        "    \"omdb\" : \"over my dead body\",\n",
        "    \"omg\" : \"oh my god\",\n",
        "    \"omw\" : \"on my way\",\n",
        "    \"p.a\" : \"per annum\",\n",
        "    \"p.m\" : \"after midday\",\n",
        "    \"pm\" : \"prime minister\",\n",
        "    \"poc\" : \"people of color\",\n",
        "    \"pov\" : \"point of view\",\n",
        "    \"pp\" : \"pages\",\n",
        "    \"ppl\" : \"people\",\n",
        "    \"prw\" : \"parents are watching\",\n",
        "    \"ps\" : \"postscript\",\n",
        "    \"pt\" : \"point\",\n",
        "    \"ptb\" : \"please text back\",\n",
        "    \"pto\" : \"please turn over\",\n",
        "    \"qpsa\" : \"what happens\", \n",
        "    \"ratchet\" : \"rude\",\n",
        "    \"rbtl\" : \"read between the lines\",\n",
        "    \"rlrt\" : \"real life retweet\", \n",
        "    \"rofl\" : \"rolling on the floor laughing\",\n",
        "    \"roflol\" : \"rolling on the floor laughing out loud\",\n",
        "    \"rotflmao\" : \"rolling on the floor laughing my ass off\",\n",
        "    \"rt\" : \"retweet\",\n",
        "    \"ruok\" : \"are you ok\",\n",
        "    \"sfw\" : \"safe for work\",\n",
        "     \"sk8\" : \"skate\",\n",
        "    \"smh\" : \"shake my head\",\n",
        "    \"sq\" : \"square\",\n",
        "    \"srsly\" : \"seriously\", \n",
        "    \"ssdd\" : \"same stuff different day\",\n",
        "    \"tbh\" : \"to be honest\",\n",
        "    \"tbs\" : \"tablespooful\",\n",
        "    \"tbsp\" : \"tablespooful\",\n",
        "    \"tfw\" : \"that feeling when\",\n",
        "    \"thks\" : \"thank you\",\n",
        "    \"tho\" : \"though\",\n",
        "    \"thx\" : \"thank you\",\n",
        "    \"tia\" : \"thanks in advance\",\n",
        "    \"til\" : \"today i learned\",\n",
        "    \"tl;dr\" : \"too long i did not read\",\n",
        "    \"tldr\" : \"too long i did not read\",\n",
        "    \"tmb\" : \"tweet me back\",\n",
        "    \"tntl\" : \"trying not to laugh\",\n",
        "    \"ttyl\" : \"talk to you later\",\n",
        "    \"u\" : \"you\",\n",
        "    \"u2\" : \"you too\",\n",
        "    \"u4e\" : \"yours for ever\",\n",
        "    \"utc\" : \"coordinated universal time\",\n",
        "    \"w/\" : \"with\",\n",
        "    \"w/o\" : \"without\",\n",
        "    \"w8\" : \"wait\",\n",
        "    \"wassup\" : \"what is up\",\n",
        "    \"wb\" : \"welcome back\",\n",
        "    \"wtf\" : \"what the fuck\",\n",
        "    \"wtg\" : \"way to go\",\n",
        "    \"wtpa\" : \"where the party at\",\n",
        "    \"wuf\" : \"where are you from\",\n",
        "    \"wuzup\" : \"what is up\",\n",
        "    \"wywh\" : \"wish you were here\",\n",
        "    \"yd\" : \"yard\",\n",
        "    \"ygtr\" : \"you got that right\",\n",
        "    \"ynk\" : \"you never know\",\n",
        "    \"zzz\" : \"sleeping bored and tired\"\n",
        "}"
      ],
      "id": "favorite-bumper"
    },
    {
      "cell_type": "code",
      "execution_count": null,
      "metadata": {
        "execution": {
          "iopub.execute_input": "2021-05-14T11:07:00.421031Z",
          "iopub.status.busy": "2021-05-14T11:07:00.420360Z",
          "iopub.status.idle": "2021-05-14T11:07:00.424207Z",
          "shell.execute_reply": "2021-05-14T11:07:00.423541Z"
        },
        "papermill": {
          "duration": 0.033679,
          "end_time": "2021-05-14T11:07:00.424436",
          "exception": false,
          "start_time": "2021-05-14T11:07:00.390757",
          "status": "completed"
        },
        "tags": [],
        "id": "expressed-freight"
      },
      "outputs": [],
      "source": [
        "def convert_abbrev_in_text(tweet):\n",
        "    t=[]\n",
        "    words=tweet.split()\n",
        "    t = [abbreviations[w.lower()] if w.lower() in abbreviations.keys() else w for w in words]\n",
        "    return ' '.join(t)  "
      ],
      "id": "expressed-freight"
    },
    {
      "cell_type": "code",
      "execution_count": null,
      "metadata": {
        "execution": {
          "iopub.execute_input": "2021-05-14T11:07:00.489738Z",
          "iopub.status.busy": "2021-05-14T11:07:00.484325Z",
          "iopub.status.idle": "2021-05-14T11:08:23.354973Z",
          "shell.execute_reply": "2021-05-14T11:08:23.354361Z"
        },
        "papermill": {
          "duration": 82.906712,
          "end_time": "2021-05-14T11:08:23.355154",
          "exception": false,
          "start_time": "2021-05-14T11:07:00.448442",
          "status": "completed"
        },
        "tags": [],
        "colab": {
          "base_uri": "https://localhost:8080/",
          "height": 493
        },
        "id": "south-trade",
        "outputId": "6253fb7f-ec1e-44dc-a371-a4ec198849ae"
      },
      "outputs": [
        {
          "output_type": "stream",
          "name": "stdout",
          "text": [
            "[nltk_data] Downloading package wordnet to /root/nltk_data...\n",
            "[nltk_data]   Package wordnet is already up-to-date!\n",
            "[nltk_data] Downloading package punkt to /root/nltk_data...\n",
            "[nltk_data]   Package punkt is already up-to-date!\n"
          ]
        },
        {
          "output_type": "execute_result",
          "data": {
            "text/plain": [
              "         sentiment                                              tweet  \\\n",
              "12               1  this called open bribe for votes\\nmodi make in...   \n",
              "20               1     now republic channel exclusive interview with    \n",
              "31               1                   please modi help and save family   \n",
              "43               1  modi govt year report card mega analysis dhruv...   \n",
              "48               1  modi jammu speaking extempore mentioning vikra...   \n",
              "...            ...                                                ...   \n",
              "1655205          0                             i want to be a wizard    \n",
              "1655206          0  I don't want to go to class tomorrow.  don't m...   \n",
              "1655207          2  have any of you seen the new JB picture?  - #j...   \n",
              "1655208          2  @leleana I'm with you! Chuck wouldn't be Chuck...   \n",
              "1655209          0  @GrrrlRomeo I was full of spelling bee fail. n...   \n",
              "\n",
              "                                          processed_tweets  \n",
              "12       called open bribe vote modi make india raga ma...  \n",
              "20                 ow republic channel exclusive interview  \n",
              "31                             lease modi help save family  \n",
              "43       odi govt year report card mega analysis dhruv ...  \n",
              "48       odi jammu speaking extempore mentioning vikram...  \n",
              "...                                                    ...  \n",
              "1655205                                        want wizard  \n",
              "1655206                        want go class tomorrow make  \n",
              "1655207                 ave seen new jb picture jonaskevin  \n",
              "1655208  leleana chuck would chuck without hair make fu...  \n",
              "1655209  grrrlromeo full spelling bee fail nerve got be...  \n",
              "\n",
              "[165211 rows x 3 columns]"
            ],
            "text/html": [
              "\n",
              "  <div id=\"df-ce86e7e4-c6e5-439b-9900-86622ed1c16e\">\n",
              "    <div class=\"colab-df-container\">\n",
              "      <div>\n",
              "<style scoped>\n",
              "    .dataframe tbody tr th:only-of-type {\n",
              "        vertical-align: middle;\n",
              "    }\n",
              "\n",
              "    .dataframe tbody tr th {\n",
              "        vertical-align: top;\n",
              "    }\n",
              "\n",
              "    .dataframe thead th {\n",
              "        text-align: right;\n",
              "    }\n",
              "</style>\n",
              "<table border=\"1\" class=\"dataframe\">\n",
              "  <thead>\n",
              "    <tr style=\"text-align: right;\">\n",
              "      <th></th>\n",
              "      <th>sentiment</th>\n",
              "      <th>tweet</th>\n",
              "      <th>processed_tweets</th>\n",
              "    </tr>\n",
              "  </thead>\n",
              "  <tbody>\n",
              "    <tr>\n",
              "      <th>12</th>\n",
              "      <td>1</td>\n",
              "      <td>this called open bribe for votes\\nmodi make in...</td>\n",
              "      <td>called open bribe vote modi make india raga ma...</td>\n",
              "    </tr>\n",
              "    <tr>\n",
              "      <th>20</th>\n",
              "      <td>1</td>\n",
              "      <td>now republic channel exclusive interview with</td>\n",
              "      <td>ow republic channel exclusive interview</td>\n",
              "    </tr>\n",
              "    <tr>\n",
              "      <th>31</th>\n",
              "      <td>1</td>\n",
              "      <td>please modi help and save family</td>\n",
              "      <td>lease modi help save family</td>\n",
              "    </tr>\n",
              "    <tr>\n",
              "      <th>43</th>\n",
              "      <td>1</td>\n",
              "      <td>modi govt year report card mega analysis dhruv...</td>\n",
              "      <td>odi govt year report card mega analysis dhruv ...</td>\n",
              "    </tr>\n",
              "    <tr>\n",
              "      <th>48</th>\n",
              "      <td>1</td>\n",
              "      <td>modi jammu speaking extempore mentioning vikra...</td>\n",
              "      <td>odi jammu speaking extempore mentioning vikram...</td>\n",
              "    </tr>\n",
              "    <tr>\n",
              "      <th>...</th>\n",
              "      <td>...</td>\n",
              "      <td>...</td>\n",
              "      <td>...</td>\n",
              "    </tr>\n",
              "    <tr>\n",
              "      <th>1655205</th>\n",
              "      <td>0</td>\n",
              "      <td>i want to be a wizard</td>\n",
              "      <td>want wizard</td>\n",
              "    </tr>\n",
              "    <tr>\n",
              "      <th>1655206</th>\n",
              "      <td>0</td>\n",
              "      <td>I don't want to go to class tomorrow.  don't m...</td>\n",
              "      <td>want go class tomorrow make</td>\n",
              "    </tr>\n",
              "    <tr>\n",
              "      <th>1655207</th>\n",
              "      <td>2</td>\n",
              "      <td>have any of you seen the new JB picture?  - #j...</td>\n",
              "      <td>ave seen new jb picture jonaskevin</td>\n",
              "    </tr>\n",
              "    <tr>\n",
              "      <th>1655208</th>\n",
              "      <td>2</td>\n",
              "      <td>@leleana I'm with you! Chuck wouldn't be Chuck...</td>\n",
              "      <td>leleana chuck would chuck without hair make fu...</td>\n",
              "    </tr>\n",
              "    <tr>\n",
              "      <th>1655209</th>\n",
              "      <td>0</td>\n",
              "      <td>@GrrrlRomeo I was full of spelling bee fail. n...</td>\n",
              "      <td>grrrlromeo full spelling bee fail nerve got be...</td>\n",
              "    </tr>\n",
              "  </tbody>\n",
              "</table>\n",
              "<p>165211 rows × 3 columns</p>\n",
              "</div>\n",
              "      <button class=\"colab-df-convert\" onclick=\"convertToInteractive('df-ce86e7e4-c6e5-439b-9900-86622ed1c16e')\"\n",
              "              title=\"Convert this dataframe to an interactive table.\"\n",
              "              style=\"display:none;\">\n",
              "        \n",
              "  <svg xmlns=\"http://www.w3.org/2000/svg\" height=\"24px\"viewBox=\"0 0 24 24\"\n",
              "       width=\"24px\">\n",
              "    <path d=\"M0 0h24v24H0V0z\" fill=\"none\"/>\n",
              "    <path d=\"M18.56 5.44l.94 2.06.94-2.06 2.06-.94-2.06-.94-.94-2.06-.94 2.06-2.06.94zm-11 1L8.5 8.5l.94-2.06 2.06-.94-2.06-.94L8.5 2.5l-.94 2.06-2.06.94zm10 10l.94 2.06.94-2.06 2.06-.94-2.06-.94-.94-2.06-.94 2.06-2.06.94z\"/><path d=\"M17.41 7.96l-1.37-1.37c-.4-.4-.92-.59-1.43-.59-.52 0-1.04.2-1.43.59L10.3 9.45l-7.72 7.72c-.78.78-.78 2.05 0 2.83L4 21.41c.39.39.9.59 1.41.59.51 0 1.02-.2 1.41-.59l7.78-7.78 2.81-2.81c.8-.78.8-2.07 0-2.86zM5.41 20L4 18.59l7.72-7.72 1.47 1.35L5.41 20z\"/>\n",
              "  </svg>\n",
              "      </button>\n",
              "      \n",
              "  <style>\n",
              "    .colab-df-container {\n",
              "      display:flex;\n",
              "      flex-wrap:wrap;\n",
              "      gap: 12px;\n",
              "    }\n",
              "\n",
              "    .colab-df-convert {\n",
              "      background-color: #E8F0FE;\n",
              "      border: none;\n",
              "      border-radius: 50%;\n",
              "      cursor: pointer;\n",
              "      display: none;\n",
              "      fill: #1967D2;\n",
              "      height: 32px;\n",
              "      padding: 0 0 0 0;\n",
              "      width: 32px;\n",
              "    }\n",
              "\n",
              "    .colab-df-convert:hover {\n",
              "      background-color: #E2EBFA;\n",
              "      box-shadow: 0px 1px 2px rgba(60, 64, 67, 0.3), 0px 1px 3px 1px rgba(60, 64, 67, 0.15);\n",
              "      fill: #174EA6;\n",
              "    }\n",
              "\n",
              "    [theme=dark] .colab-df-convert {\n",
              "      background-color: #3B4455;\n",
              "      fill: #D2E3FC;\n",
              "    }\n",
              "\n",
              "    [theme=dark] .colab-df-convert:hover {\n",
              "      background-color: #434B5C;\n",
              "      box-shadow: 0px 1px 3px 1px rgba(0, 0, 0, 0.15);\n",
              "      filter: drop-shadow(0px 1px 2px rgba(0, 0, 0, 0.3));\n",
              "      fill: #FFFFFF;\n",
              "    }\n",
              "  </style>\n",
              "\n",
              "      <script>\n",
              "        const buttonEl =\n",
              "          document.querySelector('#df-ce86e7e4-c6e5-439b-9900-86622ed1c16e button.colab-df-convert');\n",
              "        buttonEl.style.display =\n",
              "          google.colab.kernel.accessAllowed ? 'block' : 'none';\n",
              "\n",
              "        async function convertToInteractive(key) {\n",
              "          const element = document.querySelector('#df-ce86e7e4-c6e5-439b-9900-86622ed1c16e');\n",
              "          const dataTable =\n",
              "            await google.colab.kernel.invokeFunction('convertToInteractive',\n",
              "                                                     [key], {});\n",
              "          if (!dataTable) return;\n",
              "\n",
              "          const docLinkHtml = 'Like what you see? Visit the ' +\n",
              "            '<a target=\"_blank\" href=https://colab.research.google.com/notebooks/data_table.ipynb>data table notebook</a>'\n",
              "            + ' to learn more about interactive tables.';\n",
              "          element.innerHTML = '';\n",
              "          dataTable['output_type'] = 'display_data';\n",
              "          await google.colab.output.renderOutput(dataTable, element);\n",
              "          const docLink = document.createElement('div');\n",
              "          docLink.innerHTML = docLinkHtml;\n",
              "          element.appendChild(docLink);\n",
              "        }\n",
              "      </script>\n",
              "    </div>\n",
              "  </div>\n",
              "  "
            ]
          },
          "metadata": {},
          "execution_count": 126
        }
      ],
      "source": [
        "nltk.download('wordnet')\n",
        "nltk.download('punkt')\n",
        "\n",
        "tweets['processed_tweets'] = tweets['tweet'].apply(lambda x: process_tweets(x))\n",
        "tweets['processed_tweets'] = tweets['processed_tweets'].apply(lambda x: convert_abbrev_in_text(x))\n",
        "tweets"
      ],
      "id": "south-trade"
    },
    {
      "cell_type": "code",
      "execution_count": null,
      "metadata": {
        "execution": {
          "iopub.execute_input": "2021-05-14T11:08:23.417359Z",
          "iopub.status.busy": "2021-05-14T11:08:23.412121Z",
          "iopub.status.idle": "2021-05-14T11:08:23.898552Z",
          "shell.execute_reply": "2021-05-14T11:08:23.899238Z"
        },
        "papermill": {
          "duration": 0.519699,
          "end_time": "2021-05-14T11:08:23.899481",
          "exception": false,
          "start_time": "2021-05-14T11:08:23.379782",
          "status": "completed"
        },
        "tags": [],
        "colab": {
          "base_uri": "https://localhost:8080/",
          "height": 206
        },
        "id": "southwest-architect",
        "outputId": "66e65697-3bbe-4c68-b7af-51bf06079df2"
      },
      "outputs": [
        {
          "output_type": "execute_result",
          "data": {
            "text/plain": [
              "    sentiment                                              tweet  \\\n",
              "12          1  this called open bribe for votes\\nmodi make in...   \n",
              "20          1     now republic channel exclusive interview with    \n",
              "31          1                   please modi help and save family   \n",
              "43          1  modi govt year report card mega analysis dhruv...   \n",
              "48          1  modi jammu speaking extempore mentioning vikra...   \n",
              "\n",
              "                                     processed_tweets  \n",
              "12  called open bribe vote modi make india raga ma...  \n",
              "20               republic channel exclusive interview  \n",
              "31                        lease modi help save family  \n",
              "43  govt year report card mega analysis dhruv rath...  \n",
              "48  jammu speaking extempore mentioning vikram cha...  "
            ],
            "text/html": [
              "\n",
              "  <div id=\"df-23e7f777-2382-4784-abc3-dc5ebb9cbde3\">\n",
              "    <div class=\"colab-df-container\">\n",
              "      <div>\n",
              "<style scoped>\n",
              "    .dataframe tbody tr th:only-of-type {\n",
              "        vertical-align: middle;\n",
              "    }\n",
              "\n",
              "    .dataframe tbody tr th {\n",
              "        vertical-align: top;\n",
              "    }\n",
              "\n",
              "    .dataframe thead th {\n",
              "        text-align: right;\n",
              "    }\n",
              "</style>\n",
              "<table border=\"1\" class=\"dataframe\">\n",
              "  <thead>\n",
              "    <tr style=\"text-align: right;\">\n",
              "      <th></th>\n",
              "      <th>sentiment</th>\n",
              "      <th>tweet</th>\n",
              "      <th>processed_tweets</th>\n",
              "    </tr>\n",
              "  </thead>\n",
              "  <tbody>\n",
              "    <tr>\n",
              "      <th>12</th>\n",
              "      <td>1</td>\n",
              "      <td>this called open bribe for votes\\nmodi make in...</td>\n",
              "      <td>called open bribe vote modi make india raga ma...</td>\n",
              "    </tr>\n",
              "    <tr>\n",
              "      <th>20</th>\n",
              "      <td>1</td>\n",
              "      <td>now republic channel exclusive interview with</td>\n",
              "      <td>republic channel exclusive interview</td>\n",
              "    </tr>\n",
              "    <tr>\n",
              "      <th>31</th>\n",
              "      <td>1</td>\n",
              "      <td>please modi help and save family</td>\n",
              "      <td>lease modi help save family</td>\n",
              "    </tr>\n",
              "    <tr>\n",
              "      <th>43</th>\n",
              "      <td>1</td>\n",
              "      <td>modi govt year report card mega analysis dhruv...</td>\n",
              "      <td>govt year report card mega analysis dhruv rath...</td>\n",
              "    </tr>\n",
              "    <tr>\n",
              "      <th>48</th>\n",
              "      <td>1</td>\n",
              "      <td>modi jammu speaking extempore mentioning vikra...</td>\n",
              "      <td>jammu speaking extempore mentioning vikram cha...</td>\n",
              "    </tr>\n",
              "  </tbody>\n",
              "</table>\n",
              "</div>\n",
              "      <button class=\"colab-df-convert\" onclick=\"convertToInteractive('df-23e7f777-2382-4784-abc3-dc5ebb9cbde3')\"\n",
              "              title=\"Convert this dataframe to an interactive table.\"\n",
              "              style=\"display:none;\">\n",
              "        \n",
              "  <svg xmlns=\"http://www.w3.org/2000/svg\" height=\"24px\"viewBox=\"0 0 24 24\"\n",
              "       width=\"24px\">\n",
              "    <path d=\"M0 0h24v24H0V0z\" fill=\"none\"/>\n",
              "    <path d=\"M18.56 5.44l.94 2.06.94-2.06 2.06-.94-2.06-.94-.94-2.06-.94 2.06-2.06.94zm-11 1L8.5 8.5l.94-2.06 2.06-.94-2.06-.94L8.5 2.5l-.94 2.06-2.06.94zm10 10l.94 2.06.94-2.06 2.06-.94-2.06-.94-.94-2.06-.94 2.06-2.06.94z\"/><path d=\"M17.41 7.96l-1.37-1.37c-.4-.4-.92-.59-1.43-.59-.52 0-1.04.2-1.43.59L10.3 9.45l-7.72 7.72c-.78.78-.78 2.05 0 2.83L4 21.41c.39.39.9.59 1.41.59.51 0 1.02-.2 1.41-.59l7.78-7.78 2.81-2.81c.8-.78.8-2.07 0-2.86zM5.41 20L4 18.59l7.72-7.72 1.47 1.35L5.41 20z\"/>\n",
              "  </svg>\n",
              "      </button>\n",
              "      \n",
              "  <style>\n",
              "    .colab-df-container {\n",
              "      display:flex;\n",
              "      flex-wrap:wrap;\n",
              "      gap: 12px;\n",
              "    }\n",
              "\n",
              "    .colab-df-convert {\n",
              "      background-color: #E8F0FE;\n",
              "      border: none;\n",
              "      border-radius: 50%;\n",
              "      cursor: pointer;\n",
              "      display: none;\n",
              "      fill: #1967D2;\n",
              "      height: 32px;\n",
              "      padding: 0 0 0 0;\n",
              "      width: 32px;\n",
              "    }\n",
              "\n",
              "    .colab-df-convert:hover {\n",
              "      background-color: #E2EBFA;\n",
              "      box-shadow: 0px 1px 2px rgba(60, 64, 67, 0.3), 0px 1px 3px 1px rgba(60, 64, 67, 0.15);\n",
              "      fill: #174EA6;\n",
              "    }\n",
              "\n",
              "    [theme=dark] .colab-df-convert {\n",
              "      background-color: #3B4455;\n",
              "      fill: #D2E3FC;\n",
              "    }\n",
              "\n",
              "    [theme=dark] .colab-df-convert:hover {\n",
              "      background-color: #434B5C;\n",
              "      box-shadow: 0px 1px 3px 1px rgba(0, 0, 0, 0.15);\n",
              "      filter: drop-shadow(0px 1px 2px rgba(0, 0, 0, 0.3));\n",
              "      fill: #FFFFFF;\n",
              "    }\n",
              "  </style>\n",
              "\n",
              "      <script>\n",
              "        const buttonEl =\n",
              "          document.querySelector('#df-23e7f777-2382-4784-abc3-dc5ebb9cbde3 button.colab-df-convert');\n",
              "        buttonEl.style.display =\n",
              "          google.colab.kernel.accessAllowed ? 'block' : 'none';\n",
              "\n",
              "        async function convertToInteractive(key) {\n",
              "          const element = document.querySelector('#df-23e7f777-2382-4784-abc3-dc5ebb9cbde3');\n",
              "          const dataTable =\n",
              "            await google.colab.kernel.invokeFunction('convertToInteractive',\n",
              "                                                     [key], {});\n",
              "          if (!dataTable) return;\n",
              "\n",
              "          const docLinkHtml = 'Like what you see? Visit the ' +\n",
              "            '<a target=\"_blank\" href=https://colab.research.google.com/notebooks/data_table.ipynb>data table notebook</a>'\n",
              "            + ' to learn more about interactive tables.';\n",
              "          element.innerHTML = '';\n",
              "          dataTable['output_type'] = 'display_data';\n",
              "          await google.colab.output.renderOutput(dataTable, element);\n",
              "          const docLink = document.createElement('div');\n",
              "          docLink.innerHTML = docLinkHtml;\n",
              "          element.appendChild(docLink);\n",
              "        }\n",
              "      </script>\n",
              "    </div>\n",
              "  </div>\n",
              "  "
            ]
          },
          "metadata": {},
          "execution_count": 127
        }
      ],
      "source": [
        "#removing shortwords\n",
        "tweets['processed_tweets']=tweets['processed_tweets'].apply(lambda x: \" \".join([w for w in x.split() if len(w)>3]))\n",
        "tweets.head(5)"
      ],
      "id": "southwest-architect"
    },
    {
      "cell_type": "code",
      "execution_count": null,
      "metadata": {
        "execution": {
          "iopub.execute_input": "2021-05-14T11:08:24.009604Z",
          "iopub.status.busy": "2021-05-14T11:08:24.008926Z",
          "iopub.status.idle": "2021-05-14T11:08:24.101664Z",
          "shell.execute_reply": "2021-05-14T11:08:24.101034Z"
        },
        "papermill": {
          "duration": 0.15148,
          "end_time": "2021-05-14T11:08:24.101817",
          "exception": false,
          "start_time": "2021-05-14T11:08:23.950337",
          "status": "completed"
        },
        "tags": [],
        "colab": {
          "base_uri": "https://localhost:8080/",
          "height": 206
        },
        "id": "canadian-advertiser",
        "outputId": "9486a191-be01-4002-be24-60efce2e2461"
      },
      "outputs": [
        {
          "output_type": "execute_result",
          "data": {
            "text/plain": [
              "   sentiment                                              tweet  \\\n",
              "0          0  @TeamGiles ahhhhhhhhhhhh...yes...it's the best...   \n",
              "1          0                      I miss my french toast buddy    \n",
              "2          0  @clairey67  Its just rumour ..but saying he at...   \n",
              "3          2  @BradleyTFoster brad dont do that most followe...   \n",
              "4          1                            inko kuch bto modi hoge   \n",
              "\n",
              "                                    processed_tweets  \n",
              "0  teamgiles ahhhhhhhhhhhhyesit best austin rocks...  \n",
              "1                            miss french toast buddy  \n",
              "2  clairey67 rumour saying attacked someone last ...  \n",
              "3  bradleytfoster brad dont followed thing trap c...  \n",
              "4                                     kuch modi hoge  "
            ],
            "text/html": [
              "\n",
              "  <div id=\"df-0b86ea1b-60ad-43b7-a401-73f5c8ab6fb5\">\n",
              "    <div class=\"colab-df-container\">\n",
              "      <div>\n",
              "<style scoped>\n",
              "    .dataframe tbody tr th:only-of-type {\n",
              "        vertical-align: middle;\n",
              "    }\n",
              "\n",
              "    .dataframe tbody tr th {\n",
              "        vertical-align: top;\n",
              "    }\n",
              "\n",
              "    .dataframe thead th {\n",
              "        text-align: right;\n",
              "    }\n",
              "</style>\n",
              "<table border=\"1\" class=\"dataframe\">\n",
              "  <thead>\n",
              "    <tr style=\"text-align: right;\">\n",
              "      <th></th>\n",
              "      <th>sentiment</th>\n",
              "      <th>tweet</th>\n",
              "      <th>processed_tweets</th>\n",
              "    </tr>\n",
              "  </thead>\n",
              "  <tbody>\n",
              "    <tr>\n",
              "      <th>0</th>\n",
              "      <td>0</td>\n",
              "      <td>@TeamGiles ahhhhhhhhhhhh...yes...it's the best...</td>\n",
              "      <td>teamgiles ahhhhhhhhhhhhyesit best austin rocks...</td>\n",
              "    </tr>\n",
              "    <tr>\n",
              "      <th>1</th>\n",
              "      <td>0</td>\n",
              "      <td>I miss my french toast buddy</td>\n",
              "      <td>miss french toast buddy</td>\n",
              "    </tr>\n",
              "    <tr>\n",
              "      <th>2</th>\n",
              "      <td>0</td>\n",
              "      <td>@clairey67  Its just rumour ..but saying he at...</td>\n",
              "      <td>clairey67 rumour saying attacked someone last ...</td>\n",
              "    </tr>\n",
              "    <tr>\n",
              "      <th>3</th>\n",
              "      <td>2</td>\n",
              "      <td>@BradleyTFoster brad dont do that most followe...</td>\n",
              "      <td>bradleytfoster brad dont followed thing trap c...</td>\n",
              "    </tr>\n",
              "    <tr>\n",
              "      <th>4</th>\n",
              "      <td>1</td>\n",
              "      <td>inko kuch bto modi hoge</td>\n",
              "      <td>kuch modi hoge</td>\n",
              "    </tr>\n",
              "  </tbody>\n",
              "</table>\n",
              "</div>\n",
              "      <button class=\"colab-df-convert\" onclick=\"convertToInteractive('df-0b86ea1b-60ad-43b7-a401-73f5c8ab6fb5')\"\n",
              "              title=\"Convert this dataframe to an interactive table.\"\n",
              "              style=\"display:none;\">\n",
              "        \n",
              "  <svg xmlns=\"http://www.w3.org/2000/svg\" height=\"24px\"viewBox=\"0 0 24 24\"\n",
              "       width=\"24px\">\n",
              "    <path d=\"M0 0h24v24H0V0z\" fill=\"none\"/>\n",
              "    <path d=\"M18.56 5.44l.94 2.06.94-2.06 2.06-.94-2.06-.94-.94-2.06-.94 2.06-2.06.94zm-11 1L8.5 8.5l.94-2.06 2.06-.94-2.06-.94L8.5 2.5l-.94 2.06-2.06.94zm10 10l.94 2.06.94-2.06 2.06-.94-2.06-.94-.94-2.06-.94 2.06-2.06.94z\"/><path d=\"M17.41 7.96l-1.37-1.37c-.4-.4-.92-.59-1.43-.59-.52 0-1.04.2-1.43.59L10.3 9.45l-7.72 7.72c-.78.78-.78 2.05 0 2.83L4 21.41c.39.39.9.59 1.41.59.51 0 1.02-.2 1.41-.59l7.78-7.78 2.81-2.81c.8-.78.8-2.07 0-2.86zM5.41 20L4 18.59l7.72-7.72 1.47 1.35L5.41 20z\"/>\n",
              "  </svg>\n",
              "      </button>\n",
              "      \n",
              "  <style>\n",
              "    .colab-df-container {\n",
              "      display:flex;\n",
              "      flex-wrap:wrap;\n",
              "      gap: 12px;\n",
              "    }\n",
              "\n",
              "    .colab-df-convert {\n",
              "      background-color: #E8F0FE;\n",
              "      border: none;\n",
              "      border-radius: 50%;\n",
              "      cursor: pointer;\n",
              "      display: none;\n",
              "      fill: #1967D2;\n",
              "      height: 32px;\n",
              "      padding: 0 0 0 0;\n",
              "      width: 32px;\n",
              "    }\n",
              "\n",
              "    .colab-df-convert:hover {\n",
              "      background-color: #E2EBFA;\n",
              "      box-shadow: 0px 1px 2px rgba(60, 64, 67, 0.3), 0px 1px 3px 1px rgba(60, 64, 67, 0.15);\n",
              "      fill: #174EA6;\n",
              "    }\n",
              "\n",
              "    [theme=dark] .colab-df-convert {\n",
              "      background-color: #3B4455;\n",
              "      fill: #D2E3FC;\n",
              "    }\n",
              "\n",
              "    [theme=dark] .colab-df-convert:hover {\n",
              "      background-color: #434B5C;\n",
              "      box-shadow: 0px 1px 3px 1px rgba(0, 0, 0, 0.15);\n",
              "      filter: drop-shadow(0px 1px 2px rgba(0, 0, 0, 0.3));\n",
              "      fill: #FFFFFF;\n",
              "    }\n",
              "  </style>\n",
              "\n",
              "      <script>\n",
              "        const buttonEl =\n",
              "          document.querySelector('#df-0b86ea1b-60ad-43b7-a401-73f5c8ab6fb5 button.colab-df-convert');\n",
              "        buttonEl.style.display =\n",
              "          google.colab.kernel.accessAllowed ? 'block' : 'none';\n",
              "\n",
              "        async function convertToInteractive(key) {\n",
              "          const element = document.querySelector('#df-0b86ea1b-60ad-43b7-a401-73f5c8ab6fb5');\n",
              "          const dataTable =\n",
              "            await google.colab.kernel.invokeFunction('convertToInteractive',\n",
              "                                                     [key], {});\n",
              "          if (!dataTable) return;\n",
              "\n",
              "          const docLinkHtml = 'Like what you see? Visit the ' +\n",
              "            '<a target=\"_blank\" href=https://colab.research.google.com/notebooks/data_table.ipynb>data table notebook</a>'\n",
              "            + ' to learn more about interactive tables.';\n",
              "          element.innerHTML = '';\n",
              "          dataTable['output_type'] = 'display_data';\n",
              "          await google.colab.output.renderOutput(dataTable, element);\n",
              "          const docLink = document.createElement('div');\n",
              "          docLink.innerHTML = docLinkHtml;\n",
              "          element.appendChild(docLink);\n",
              "        }\n",
              "      </script>\n",
              "    </div>\n",
              "  </div>\n",
              "  "
            ]
          },
          "metadata": {},
          "execution_count": 128
        }
      ],
      "source": [
        "from sklearn.utils import shuffle\n",
        "tweets = shuffle(tweets).reset_index(drop=True)\n",
        "tweets.head()"
      ],
      "id": "canadian-advertiser"
    },
    {
      "cell_type": "code",
      "execution_count": null,
      "metadata": {
        "execution": {
          "iopub.execute_input": "2021-05-14T11:08:24.166843Z",
          "iopub.status.busy": "2021-05-14T11:08:24.161574Z",
          "iopub.status.idle": "2021-05-14T11:08:24.633430Z",
          "shell.execute_reply": "2021-05-14T11:08:24.632766Z"
        },
        "papermill": {
          "duration": 0.506754,
          "end_time": "2021-05-14T11:08:24.633571",
          "exception": false,
          "start_time": "2021-05-14T11:08:24.126817",
          "status": "completed"
        },
        "tags": [],
        "colab": {
          "base_uri": "https://localhost:8080/"
        },
        "id": "aggregate-contribution",
        "outputId": "5f72401f-068a-4fc2-e22e-3c3a44e2912f"
      },
      "outputs": [
        {
          "output_type": "execute_result",
          "data": {
            "text/plain": [
              "0    [teamgiles, ahhhhhhhhhhhhyesit, best, austin, ...\n",
              "1                         [miss, french, toast, buddy]\n",
              "2    [clairey67, rumour, saying, attacked, someone,...\n",
              "3    [bradleytfoster, brad, dont, followed, thing, ...\n",
              "4                                   [kuch, modi, hoge]\n",
              "Name: processed_tweets, dtype: object"
            ]
          },
          "metadata": {},
          "execution_count": 129
        }
      ],
      "source": [
        "#tokenization\n",
        "tokenized_tweet=tweets['processed_tweets'].apply(lambda x: x.split())\n",
        "tokenized_tweet.head(5)"
      ],
      "id": "aggregate-contribution"
    },
    {
      "cell_type": "code",
      "execution_count": null,
      "metadata": {
        "execution": {
          "iopub.execute_input": "2021-05-14T11:08:24.967896Z",
          "iopub.status.busy": "2021-05-14T11:08:24.962361Z",
          "iopub.status.idle": "2021-05-14T11:08:28.632213Z",
          "shell.execute_reply": "2021-05-14T11:08:28.631553Z"
        },
        "papermill": {
          "duration": 3.973237,
          "end_time": "2021-05-14T11:08:28.632363",
          "exception": false,
          "start_time": "2021-05-14T11:08:24.659126",
          "status": "completed"
        },
        "tags": [],
        "id": "olive-specific"
      },
      "outputs": [],
      "source": [
        "from sklearn.feature_extraction.text import CountVectorizer\n",
        "from nltk.tokenize import RegexpTokenizer\n",
        "token = RegexpTokenizer(r'[a-zA-Z0-9]+')\n",
        "cv = CountVectorizer(stop_words='english',ngram_range = (1,1),tokenizer = token.tokenize)\n",
        "text_counts = cv.fit_transform(tweets['processed_tweets'].values.astype('U'))"
      ],
      "id": "olive-specific"
    },
    {
      "cell_type": "code",
      "execution_count": null,
      "metadata": {
        "execution": {
          "iopub.execute_input": "2021-05-14T11:08:28.697739Z",
          "iopub.status.busy": "2021-05-14T11:08:28.690986Z",
          "iopub.status.idle": "2021-05-14T11:08:28.732810Z",
          "shell.execute_reply": "2021-05-14T11:08:28.732109Z"
        },
        "papermill": {
          "duration": 0.074511,
          "end_time": "2021-05-14T11:08:28.732953",
          "exception": false,
          "start_time": "2021-05-14T11:08:28.658442",
          "status": "completed"
        },
        "tags": [],
        "id": "following-diagnosis"
      },
      "outputs": [],
      "source": [
        "from sklearn.model_selection import train_test_split\n",
        "X=text_counts\n",
        "y=tweets['sentiment']\n",
        "X_train, X_test, y_train, y_test = train_test_split(X, y, test_size=0.20)"
      ],
      "id": "following-diagnosis"
    },
    {
      "cell_type": "code",
      "execution_count": null,
      "metadata": {
        "execution": {
          "iopub.execute_input": "2021-05-14T11:08:28.792739Z",
          "iopub.status.busy": "2021-05-14T11:08:28.791825Z",
          "iopub.status.idle": "2021-05-14T11:08:31.337338Z",
          "shell.execute_reply": "2021-05-14T11:08:31.337934Z"
        },
        "papermill": {
          "duration": 2.579232,
          "end_time": "2021-05-14T11:08:31.338121",
          "exception": false,
          "start_time": "2021-05-14T11:08:28.758889",
          "status": "completed"
        },
        "tags": [],
        "colab": {
          "base_uri": "https://localhost:8080/"
        },
        "id": "grateful-sense",
        "outputId": "e054a9f1-c501-47df-d81e-cd6a80c6c55d"
      },
      "outputs": [
        {
          "output_type": "stream",
          "name": "stdout",
          "text": [
            "Cross Validation score =  [0.79647732 0.79550269 0.79683433 0.79468555 0.79256704]\n",
            "Train accuracy =89.55%\n",
            "Test accuracy =79.26%\n"
          ]
        }
      ],
      "source": [
        "from sklearn.naive_bayes import ComplementNB, MultinomialNB\n",
        "from sklearn.model_selection import GridSearchCV\n",
        "from sklearn.model_selection import cross_val_score\n",
        "from sklearn import metrics\n",
        "from math import *\n",
        "cnb = MultinomialNB()\n",
        "cnb.fit(X_train, y_train)\n",
        "cross_cnb = cross_val_score(cnb, X, y,n_jobs = -1)\n",
        "print(\"Cross Validation score = \",cross_cnb)                \n",
        "print (\"Train accuracy ={:.2f}%\".format(cnb.score(X_train,y_train)*100))\n",
        "print (\"Test accuracy ={:.2f}%\".format(cnb.score(X_test,y_test)*100))\n",
        "train_acc_cnb=cnb.score(X_train,y_train)\n",
        "test_acc_cnb=cnb.score(X_test,y_test)"
      ],
      "id": "grateful-sense"
    },
    {
      "cell_type": "code",
      "source": [
        "import pickle\n",
        "data = {\"model\": cnb, \"cv\":cv}\n",
        "with open('/content/drive/MyDrive/ML Projects/FY_Project/nb_final_79.pkl', 'wb') as file:\n",
        "    pickle.dump(data, file)"
      ],
      "metadata": {
        "id": "HeoMmlLt85u1"
      },
      "execution_count": null,
      "outputs": [],
      "id": "HeoMmlLt85u1"
    },
    {
      "cell_type": "code",
      "source": [
        "# new = #Loading the trained model\n",
        "# with open('/content/drive/MyDrive/ML Projects/FY_Project/nb_final_79.pkl', 'rb') as file:\n",
        "#     data = pickle.load(file)\n",
        "# loaded_model = data['model']\n",
        "# loaded_cv = data['cv']\n",
        "\n",
        "# tweet = \"hey I am alone and not happy\"\n",
        "# tweet = "
      ],
      "metadata": {
        "id": "RfGLrNnMAtK-"
      },
      "execution_count": null,
      "outputs": [],
      "id": "RfGLrNnMAtK-"
    },
    {
      "cell_type": "code",
      "execution_count": null,
      "metadata": {
        "execution": {
          "iopub.execute_input": "2021-05-14T11:08:31.400349Z",
          "iopub.status.busy": "2021-05-14T11:08:31.399679Z",
          "iopub.status.idle": "2021-05-14T11:08:31.598964Z",
          "shell.execute_reply": "2021-05-14T11:08:31.598199Z"
        },
        "papermill": {
          "duration": 0.2347,
          "end_time": "2021-05-14T11:08:31.599122",
          "exception": false,
          "start_time": "2021-05-14T11:08:31.364422",
          "status": "completed"
        },
        "tags": [],
        "colab": {
          "base_uri": "https://localhost:8080/",
          "height": 499
        },
        "id": "later-compromise",
        "outputId": "6af0be30-92b3-45fd-89e6-70abbe88518f"
      },
      "outputs": [
        {
          "output_type": "display_data",
          "data": {
            "text/plain": [
              "<Figure size 576x576 with 1 Axes>"
            ],
            "image/png": "[encoded data removed]"
          },
          "metadata": {
            "needs_background": "light"
          }
        }
      ],
      "source": [
        "#plotting the best parameters\n",
        "import matplotlib.patches as mpatches\n",
        "import numpy as np\n",
        "import pandas as pd\n",
        "from pandas import Series, DataFrame\n",
        "import matplotlib.pyplot as plt\n",
        "data_cnb = [train_acc_cnb,test_acc_cnb]\n",
        "labels = ['Train Accuracy','Test Accuracy']\n",
        "plt.xticks(range(len(data_cnb)), labels)\n",
        "plt.ylabel('Accuracy')\n",
        "plt.title('Accuracy plot with best parameters')\n",
        "plt.bar(range(len(data_cnb)), data_cnb,color=['blue','darkorange']) \n",
        "Train_acc = mpatches.Patch(color='blue', label='Train_acc')\n",
        "Test_acc = mpatches.Patch(color='darkorange', label='Test_acc')\n",
        "plt.legend(handles=[Train_acc, Test_acc],loc='best')\n",
        "plt.gcf().set_size_inches(8, 8)\n",
        "plt.show()"
      ],
      "id": "later-compromise"
    },
    {
      "cell_type": "code",
      "execution_count": null,
      "metadata": {
        "execution": {
          "iopub.execute_input": "2021-05-14T11:08:31.660575Z",
          "iopub.status.busy": "2021-05-14T11:08:31.659826Z",
          "iopub.status.idle": "2021-05-14T11:08:31.727261Z",
          "shell.execute_reply": "2021-05-14T11:08:31.726688Z"
        },
        "papermill": {
          "duration": 0.100634,
          "end_time": "2021-05-14T11:08:31.727406",
          "exception": false,
          "start_time": "2021-05-14T11:08:31.626772",
          "status": "completed"
        },
        "tags": [],
        "id": "thick-thinking"
      },
      "outputs": [],
      "source": [
        "#confusionmatrix \n",
        "from sklearn.metrics import *\n",
        "#Predict test data set\n",
        "y_pred_cnb =cnb.predict(X_test)"
      ],
      "id": "thick-thinking"
    },
    {
      "cell_type": "code",
      "source": [
        "from sklearn.metrics import *\n",
        "\n",
        "print(\"F1 score ={:.2f}%\".format(f1_score(y_test, y_pred_cnb, average=\"macro\")*100))\n",
        "f1_cnb=f1_score(y_test, y_pred_cnb, average=\"macro\")\n",
        "print(\"Precision score ={:.2f}%\".format(precision_score(y_test, y_pred_cnb, average=\"macro\")*100))\n",
        "precision_cnb=precision_score(y_test, y_pred_cnb, average=\"macro\")\n",
        "print(\"Recall score ={:.2f}%\".format(recall_score(y_test, y_pred_cnb, average=\"macro\")*100))  \n",
        "recall_cnb=recall_score(y_test, y_pred_cnb, average=\"macro\")"
      ],
      "metadata": {
        "id": "0YD0zhe5LPtA",
        "colab": {
          "base_uri": "https://localhost:8080/"
        },
        "outputId": "c0d5f0f3-d866-4eea-ac4b-c4899d5b7f95"
      },
      "execution_count": null,
      "outputs": [
        {
          "output_type": "stream",
          "name": "stdout",
          "text": [
            "F1 score =79.03%\n",
            "Precision score =79.07%\n",
            "Recall score =79.13%\n"
          ]
        }
      ],
      "id": "0YD0zhe5LPtA"
    },
    {
      "cell_type": "code",
      "execution_count": null,
      "metadata": {
        "execution": {
          "iopub.execute_input": "2021-05-14T11:08:31.788657Z",
          "iopub.status.busy": "2021-05-14T11:08:31.787899Z",
          "iopub.status.idle": "2021-05-14T11:08:31.888773Z",
          "shell.execute_reply": "2021-05-14T11:08:31.888254Z"
        },
        "papermill": {
          "duration": 0.133752,
          "end_time": "2021-05-14T11:08:31.888924",
          "exception": false,
          "start_time": "2021-05-14T11:08:31.755172",
          "status": "completed"
        },
        "tags": [],
        "colab": {
          "base_uri": "https://localhost:8080/"
        },
        "id": "civilian-charger",
        "outputId": "ce89353d-1de8-4d7d-b04a-c59a7969c294"
      },
      "outputs": [
        {
          "output_type": "stream",
          "name": "stdout",
          "text": [
            "              precision    recall  f1-score   support\n",
            "\n",
            "           0       0.70      0.74      0.72     11000\n",
            "           1       0.95      0.97      0.96     11164\n",
            "           2       0.72      0.66      0.69     10879\n",
            "\n",
            "    accuracy                           0.79     33043\n",
            "   macro avg       0.79      0.79      0.79     33043\n",
            "weighted avg       0.79      0.79      0.79     33043\n",
            "\n"
          ]
        }
      ],
      "source": [
        "#Checking performance our model with classification report\n",
        "print(classification_report(y_test, y_pred_cnb))"
      ],
      "id": "civilian-charger"
    },
    {
      "cell_type": "code",
      "source": [
        "from sklearn.metrics import confusion_matrix\n",
        "cf_matrix = confusion_matrix(y_test, y_pred_cnb)\n",
        "\n",
        "plt.figure(figsize=(8, 5))\n",
        "ax = sns.heatmap(cf_matrix, annot=True, fmt='g', cmap='Blues')\n",
        "\n",
        "ax.set_title('Confusion Matrix Plot\\n\\n');\n",
        "ax.set_xlabel('Predicted Sentiment Category')\n",
        "ax.set_ylabel('\\nActual Sentiment Category ');"
      ],
      "metadata": {
        "id": "VzqA6lYGLSc0",
        "colab": {
          "base_uri": "https://localhost:8080/",
          "height": 380
        },
        "outputId": "a335c8a4-9ba0-45a6-eb04-8cb4a9a667b7"
      },
      "execution_count": null,
      "outputs": [
        {
          "output_type": "display_data",
          "data": {
            "text/plain": [
              "<Figure size 576x360 with 2 Axes>"
            ],
            "image/png": "[encoded data removed]"
          },
          "metadata": {
            "needs_background": "light"
          }
        }
      ],
      "id": "VzqA6lYGLSc0"
    },
    {
      "cell_type": "code",
      "source": [
        "plt.figure(figsize=(8, 5))\n",
        "ax = sns.heatmap(cf_matrix/np.sum(cf_matrix), annot=True, \n",
        "            fmt='.2%', cmap='Blues')\n",
        "\n",
        "ax.set_title('Confusion Matrix Plot\\n\\n');\n",
        "ax.set_xlabel('Predicted Sentiment Category')\n",
        "ax.set_ylabel('\\nActual Sentiment Category ');"
      ],
      "metadata": {
        "colab": {
          "base_uri": "https://localhost:8080/",
          "height": 380
        },
        "id": "-Tb2hq_uMnae",
        "outputId": "88b8dd65-dd11-4526-903b-8bb872b544dc"
      },
      "execution_count": null,
      "outputs": [
        {
          "output_type": "display_data",
          "data": {
            "text/plain": [
              "<Figure size 576x360 with 2 Axes>"
            ],
            "image/png": "[encoded data removed]"
          },
          "metadata": {
            "needs_background": "light"
          }
        }
      ],
      "id": "-Tb2hq_uMnae"
    }
  ],
  "metadata": {
    "kernelspec": {
      "display_name": "Python 3",
      "language": "python",
      "name": "python3"
    },
    "language_info": {
      "codemirror_mode": {
        "name": "ipython",
        "version": 3
      },
      "file_extension": ".py",
      "mimetype": "text/x-python",
      "name": "python",
      "nbconvert_exporter": "python",
      "pygments_lexer": "ipython3",
      "version": "3.7.10"
    },
    "papermill": {
      "default_parameters": {},
      "duration": 114.99635,
      "end_time": "2021-05-14T11:08:34.540299",
      "environment_variables": {},
      "exception": null,
      "input_path": "__notebook__.ipynb",
      "output_path": "__notebook__.ipynb",
      "parameters": {},
      "start_time": "2021-05-14T11:06:39.543949",
      "version": "2.3.3"
    },
    "colab": {
      "name": "FY_FINAL_CODE.ipynb",
      "provenance": [],
      "collapsed_sections": []
    }
  },
  "nbformat": 4,
  "nbformat_minor": 5
}